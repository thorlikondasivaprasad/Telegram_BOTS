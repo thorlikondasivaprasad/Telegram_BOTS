{
  "nbformat": 4,
  "nbformat_minor": 0,
  "metadata": {
    "colab": {
      "provenance": [],
      "authorship_tag": "ABX9TyOutqb2CE8xqEEAvVgUqFbn",
      "include_colab_link": true
    },
    "kernelspec": {
      "name": "python3",
      "display_name": "Python 3"
    },
    "language_info": {
      "name": "python"
    }
  },
  "cells": [
    {
      "cell_type": "markdown",
      "metadata": {
        "id": "view-in-github",
        "colab_type": "text"
      },
      "source": [
        "<a href=\"https://colab.research.google.com/github/thorlikondasivaprasad/Telegram_BOTS/blob/main/Weather_Bot.ipynb\" target=\"_parent\"><img src=\"https://colab.research.google.com/assets/colab-badge.svg\" alt=\"Open In Colab\"/></a>"
      ]
    },
    {
      "cell_type": "code",
      "execution_count": null,
      "metadata": {
        "colab": {
          "base_uri": "https://localhost:8080/"
        },
        "id": "UdeZ9CHOtkPp",
        "outputId": "c81fa320-593b-4374-8d94-c7f496a7210b"
      },
      "outputs": [
        {
          "output_type": "stream",
          "name": "stdout",
          "text": [
            "Requirement already satisfied: pyTelegramBotAPI in /usr/local/lib/python3.10/dist-packages (4.20.0)\n",
            "Requirement already satisfied: requests in /usr/local/lib/python3.10/dist-packages (2.31.0)\n",
            "Requirement already satisfied: charset-normalizer<4,>=2 in /usr/local/lib/python3.10/dist-packages (from requests) (3.3.2)\n",
            "Requirement already satisfied: idna<4,>=2.5 in /usr/local/lib/python3.10/dist-packages (from requests) (3.7)\n",
            "Requirement already satisfied: urllib3<3,>=1.21.1 in /usr/local/lib/python3.10/dist-packages (from requests) (2.0.7)\n",
            "Requirement already satisfied: certifi>=2017.4.17 in /usr/local/lib/python3.10/dist-packages (from requests) (2024.6.2)\n"
          ]
        }
      ],
      "source": [
        "!pip install pyTelegramBotAPI requests"
      ]
    },
    {
      "cell_type": "code",
      "source": [
        "import telebot\n",
        "import requests\n",
        "import json\n",
        "\n",
        "TELEGRAM_API_KEY = 'TELEGRAM_API_KEY'\n",
        "OPENWEATHER_API_KEY = 'OPENWEATHERMAP_API_KEY'\n",
        "\n",
        "bot = telebot.TeleBot(TELEGRAM_API_KEY)\n",
        "\n",
        "@bot.message_handler(commands=['start', 'help'])\n",
        "def send_welcome(message):\n",
        "    bot.reply_to(message, \"Hello!Welcome Siva_Weather_Bot👋 Send me a city name and I'll provide the current temperature.\")\n",
        "\n",
        "@bot.message_handler(func=lambda message: True)\n",
        "def echo_all(message):\n",
        "    print(message)\n",
        "    city_name = message.text\n",
        "    response = requests.get(f'http://api.openweathermap.org/data/2.5/weather?q={city_name}&appid={OPENWEATHER_API_KEY}')\n",
        "    data = json.loads(response.text)\n",
        "    if data['cod'] == 200:\n",
        "        temp = data['main']['temp'] - 273.15  # Convert from Kelvin to Celsius\n",
        "        bot.reply_to(message, f'The current temperature in {city_name} is {temp:.2f}°C.')\n",
        "    else:\n",
        "        bot.reply_to(message, 'Sorry, I could not find that city.')\n",
        "\n",
        "bot.polling()"
      ],
      "metadata": {
        "id": "esFyGdAUucEc"
      },
      "execution_count": null,
      "outputs": []
    },
    {
      "cell_type": "code",
      "source": [],
      "metadata": {
        "id": "1aju41jWvCNh"
      },
      "execution_count": null,
      "outputs": []
    }
  ]
}